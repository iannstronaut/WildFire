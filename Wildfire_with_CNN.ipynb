{
  "cells": [
    {
      "cell_type": "markdown",
      "metadata": {
        "id": "view-in-github",
        "colab_type": "text"
      },
      "source": [
        "<a href=\"https://colab.research.google.com/github/iannstronaut/WildFire/blob/Experimental/Wildfire_with_CNN.ipynb\" target=\"_parent\"><img src=\"https://colab.research.google.com/assets/colab-badge.svg\" alt=\"Open In Colab\"/></a>"
      ]
    },
    {
      "cell_type": "markdown",
      "metadata": {
        "id": "Yi1s67KpXMJm"
      },
      "source": [
        "# Wildfire with CNN"
      ]
    },
    {
      "cell_type": "code",
      "execution_count": null,
      "metadata": {
        "id": "F6lYsEq4XIFe",
        "outputId": "954568c4-3ae1-4063-eedf-3fda77b31aba"
      },
      "outputs": [
        {
          "name": "stdout",
          "output_type": "stream",
          "text": [
            "30250 images loaded from folders 'wildfire' and 'nowildfire'.\n"
          ]
        }
      ],
      "source": [
        "import os\n",
        "from PIL import Image\n",
        "from PIL import ImageFile\n",
        "import numpy as np\n",
        "\n",
        "# Izinkan pemuatan gambar terpotong\n",
        "ImageFile.LOAD_TRUNCATED_IMAGES = True\n",
        "\n",
        "# Path ke folder Wildfire\n",
        "base_dir = \"./Wildfire/train\"\n",
        "\n",
        "# Inisialisasi array untuk menyimpan gambar dan label\n",
        "data = []\n",
        "\n",
        "# Loop untuk membaca gambar dari subfolder 'wildfire' dan 'nowildfire'\n",
        "for label in ['wildfire', 'nowildfire']:\n",
        "    folder_path = os.path.join(base_dir, label)  # Path ke subfolder\n",
        "    for filename in os.listdir(folder_path):\n",
        "        if filename.endswith(\".jpg\"):\n",
        "            img_path = os.path.join(folder_path, filename)\n",
        "\n",
        "            # Buka gambar menggunakan PIL\n",
        "            img = Image.open(img_path)\n",
        "\n",
        "            img = img.resize((50, 50))\n",
        "\n",
        "            # Konversi gambar ke array numpy\n",
        "            img_np = np.array(img)\n",
        "\n",
        "            # Tambahkan gambar dan label ke array data\n",
        "            data.append({\n",
        "                'label': label,\n",
        "                'image': img_np\n",
        "            })\n",
        "\n",
        "# Jumlah gambar yang berhasil dimuat\n",
        "print(f\"{len(data)} images loaded from folders 'wildfire' and 'nowildfire'.\")\n"
      ]
    },
    {
      "cell_type": "code",
      "execution_count": null,
      "metadata": {
        "id": "6dtsYoFrz2sd",
        "outputId": "60611151-baaa-48be-e4da-dca4f73fb08e"
      },
      "outputs": [
        {
          "name": "stdout",
          "output_type": "stream",
          "text": [
            "6300 images loaded from folders 'wildfire' and 'nowildfire'.\n"
          ]
        }
      ],
      "source": [
        "base_dir = \"./Wildfire/test\"\n",
        "\n",
        "# Inisialisasi array untuk menyimpan gambar dan label\n",
        "test = []\n",
        "\n",
        "# Loop untuk membaca gambar dari subfolder 'wildfire' dan 'nowildfire'\n",
        "for label in ['wildfire', 'nowildfire']:\n",
        "    folder_path = os.path.join(base_dir, label)  # Path ke subfolder\n",
        "    for filename in os.listdir(folder_path):\n",
        "        if filename.endswith(\".jpg\"):\n",
        "            img_path = os.path.join(folder_path, filename)\n",
        "\n",
        "            # Buka gambar menggunakan PIL\n",
        "            img = Image.open(img_path)\n",
        "\n",
        "            img = img.resize((50, 50))\n",
        "\n",
        "            # Konversi gambar ke array numpy\n",
        "            img_np = np.array(img)\n",
        "\n",
        "            # Tambahkan gambar dan label ke array data\n",
        "            test.append({\n",
        "                'label': label,\n",
        "                'image': img_np\n",
        "            })\n",
        "\n",
        "# Jumlah gambar yang berhasil dimuat\n",
        "print(f\"{len(test)} images loaded from folders 'wildfire' and 'nowildfire'.\")\n"
      ]
    },
    {
      "cell_type": "code",
      "execution_count": null,
      "metadata": {
        "id": "MQberREez2sd"
      },
      "outputs": [],
      "source": [
        "X_train = np.array([entry['image'] for entry in data])\n",
        "y_train = np.array([entry['label'] for entry in data])"
      ]
    },
    {
      "cell_type": "code",
      "execution_count": null,
      "metadata": {
        "id": "Di4XxiGsz2sd",
        "outputId": "350a3a62-36c7-4c49-ca08-66110793f94a"
      },
      "outputs": [
        {
          "name": "stderr",
          "output_type": "stream",
          "text": [
            "2024-10-05 12:38:59.423762: I external/local_xla/xla/tsl/cuda/cudart_stub.cc:32] Could not find cuda drivers on your machine, GPU will not be used.\n",
            "2024-10-05 12:38:59.663565: I external/local_xla/xla/tsl/cuda/cudart_stub.cc:32] Could not find cuda drivers on your machine, GPU will not be used.\n",
            "2024-10-05 12:38:59.920041: E external/local_xla/xla/stream_executor/cuda/cuda_fft.cc:485] Unable to register cuFFT factory: Attempting to register factory for plugin cuFFT when one has already been registered\n",
            "2024-10-05 12:39:00.108735: E external/local_xla/xla/stream_executor/cuda/cuda_dnn.cc:8454] Unable to register cuDNN factory: Attempting to register factory for plugin cuDNN when one has already been registered\n",
            "2024-10-05 12:39:00.163968: E external/local_xla/xla/stream_executor/cuda/cuda_blas.cc:1452] Unable to register cuBLAS factory: Attempting to register factory for plugin cuBLAS when one has already been registered\n",
            "2024-10-05 12:39:00.527485: I tensorflow/core/platform/cpu_feature_guard.cc:210] This TensorFlow binary is optimized to use available CPU instructions in performance-critical operations.\n",
            "To enable the following instructions: AVX2 FMA, in other operations, rebuild TensorFlow with the appropriate compiler flags.\n",
            "2024-10-05 12:39:02.670861: W tensorflow/compiler/tf2tensorrt/utils/py_utils.cc:38] TF-TRT Warning: Could not find TensorRT\n"
          ]
        }
      ],
      "source": [
        "import matplotlib.pyplot as plt\n",
        "from tensorflow.keras.models import Sequential\n",
        "from tensorflow.keras.layers import Conv2D, MaxPooling2D, Flatten, Dense, Dropout\n",
        "from tensorflow.keras.utils import to_categorical\n",
        "from sklearn.model_selection import train_test_split\n",
        "from sklearn.metrics import classification_report, accuracy_score"
      ]
    },
    {
      "cell_type": "code",
      "execution_count": null,
      "metadata": {
        "id": "y62HDzmcz2sd",
        "outputId": "4705edbb-d3eb-4158-83e0-61642de81989"
      },
      "outputs": [
        {
          "name": "stdout",
          "output_type": "stream",
          "text": [
            "Shape of X_train: (24200, 50, 50, 3), Shape of X_test: (6050, 50, 50, 3)\n",
            "Shape of y_train: (24200, 2), Shape of y_test: (6050, 2)\n"
          ]
        }
      ],
      "source": [
        "from sklearn.preprocessing import LabelEncoder\n",
        "\n",
        "le = LabelEncoder()\n",
        "y_encoded = le.fit_transform(y_train)\n",
        "# Split data menjadi training dan testing\n",
        "X_train, X_test, y_train, y_test = train_test_split(X_train, y_encoded, test_size=0.2, random_state=42)\n",
        "# Ubah label menjadi kategorikal\n",
        "y_train = to_categorical(y_train)\n",
        "y_test = to_categorical(y_test)\n",
        "print(f\"Shape of X_train: {X_train.shape}, Shape of X_test: {X_test.shape}\")\n",
        "print(f\"Shape of y_train: {y_train.shape}, Shape of y_test: {y_test.shape}\")"
      ]
    },
    {
      "cell_type": "code",
      "execution_count": null,
      "metadata": {
        "id": "ry2-sdj0z2se",
        "outputId": "4bd6f87b-38d7-4d3a-97aa-921dcdc705e8"
      },
      "outputs": [
        {
          "name": "stderr",
          "output_type": "stream",
          "text": [
            "/home/cloudide/.local/lib/python3.12/site-packages/keras/src/layers/convolutional/base_conv.py:107: UserWarning: Do not pass an `input_shape`/`input_dim` argument to a layer. When using Sequential models, prefer using an `Input(shape)` object as the first layer in the model instead.\n",
            "  super().__init__(activity_regularizer=activity_regularizer, **kwargs)\n"
          ]
        },
        {
          "name": "stdout",
          "output_type": "stream",
          "text": [
            "Epoch 1/10\n",
            "\u001b[1m605/605\u001b[0m \u001b[32m━━━━━━━━━━━━━━━━━━━━\u001b[0m\u001b[37m\u001b[0m \u001b[1m89s\u001b[0m 145ms/step - accuracy: 0.8344 - loss: 1.0424 - val_accuracy: 0.9147 - val_loss: 0.2148\n",
            "Epoch 2/10\n",
            "\u001b[1m605/605\u001b[0m \u001b[32m━━━━━━━━━━━━━━━━━━━━\u001b[0m\u001b[37m\u001b[0m \u001b[1m76s\u001b[0m 125ms/step - accuracy: 0.9090 - loss: 0.2340 - val_accuracy: 0.9252 - val_loss: 0.1910\n",
            "Epoch 3/10\n",
            "\u001b[1m605/605\u001b[0m \u001b[32m━━━━━━━━━━━━━━━━━━━━\u001b[0m\u001b[37m\u001b[0m \u001b[1m74s\u001b[0m 122ms/step - accuracy: 0.9167 - loss: 0.2167 - val_accuracy: 0.9275 - val_loss: 0.1803\n",
            "Epoch 4/10\n",
            "\u001b[1m605/605\u001b[0m \u001b[32m━━━━━━━━━━━━━━━━━━━━\u001b[0m\u001b[37m\u001b[0m \u001b[1m74s\u001b[0m 122ms/step - accuracy: 0.9215 - loss: 0.2111 - val_accuracy: 0.9349 - val_loss: 0.1710\n",
            "Epoch 5/10\n",
            "\u001b[1m605/605\u001b[0m \u001b[32m━━━━━━━━━━━━━━━━━━━━\u001b[0m\u001b[37m\u001b[0m \u001b[1m74s\u001b[0m 122ms/step - accuracy: 0.9261 - loss: 0.1958 - val_accuracy: 0.9324 - val_loss: 0.1715\n",
            "Epoch 6/10\n",
            "\u001b[1m605/605\u001b[0m \u001b[32m━━━━━━━━━━━━━━━━━━━━\u001b[0m\u001b[37m\u001b[0m \u001b[1m73s\u001b[0m 121ms/step - accuracy: 0.9342 - loss: 0.1747 - val_accuracy: 0.9298 - val_loss: 0.1854\n",
            "Epoch 7/10\n",
            "\u001b[1m605/605\u001b[0m \u001b[32m━━━━━━━━━━━━━━━━━━━━\u001b[0m\u001b[37m\u001b[0m \u001b[1m74s\u001b[0m 122ms/step - accuracy: 0.9362 - loss: 0.1700 - val_accuracy: 0.9314 - val_loss: 0.1778\n",
            "Epoch 8/10\n",
            "\u001b[1m605/605\u001b[0m \u001b[32m━━━━━━━━━━━━━━━━━━━━\u001b[0m\u001b[37m\u001b[0m \u001b[1m73s\u001b[0m 121ms/step - accuracy: 0.9414 - loss: 0.1573 - val_accuracy: 0.9403 - val_loss: 0.1739\n",
            "Epoch 9/10\n",
            "\u001b[1m605/605\u001b[0m \u001b[32m━━━━━━━━━━━━━━━━━━━━\u001b[0m\u001b[37m\u001b[0m \u001b[1m73s\u001b[0m 121ms/step - accuracy: 0.9462 - loss: 0.1472 - val_accuracy: 0.9337 - val_loss: 0.1858\n",
            "Epoch 10/10\n",
            "\u001b[1m605/605\u001b[0m \u001b[32m━━━━━━━━━━━━━━━━━━━━\u001b[0m\u001b[37m\u001b[0m \u001b[1m73s\u001b[0m 121ms/step - accuracy: 0.9494 - loss: 0.1340 - val_accuracy: 0.9337 - val_loss: 0.1821\n"
          ]
        }
      ],
      "source": [
        "# Membangun model CNN\n",
        "model = Sequential()\n",
        "model.add(Conv2D(32, (3, 3), activation='relu', input_shape=(50, 50, 3)))\n",
        "model.add(MaxPooling2D(pool_size=(2, 2)))\n",
        "model.add(Conv2D(64, (3, 3), activation='relu'))\n",
        "model.add(MaxPooling2D(pool_size=(2, 2)))\n",
        "model.add(Conv2D(128, (3, 3), activation='relu'))\n",
        "model.add(MaxPooling2D(pool_size=(2, 2)))\n",
        "model.add(Flatten())\n",
        "model.add(Dense(128, activation='relu'))\n",
        "model.add(Dropout(0.5))  # Regularisasi\n",
        "model.add(Dense(2, activation='softmax'))  # 2 kelas (wildfire, nowildfire)\n",
        "\n",
        "# Kompilasi model\n",
        "model.compile(optimizer='adam', loss='categorical_crossentropy', metrics=['accuracy'])\n",
        "\n",
        "# Melatih model\n",
        "history = model.fit(X_train, y_train, epochs=10, batch_size=32, validation_split=0.2)"
      ]
    },
    {
      "cell_type": "code",
      "execution_count": null,
      "metadata": {
        "id": "DmHCaDNFz2se",
        "outputId": "108f06fc-b573-4684-989f-437c04290850"
      },
      "outputs": [
        {
          "name": "stdout",
          "output_type": "stream",
          "text": [
            "\u001b[1m190/190\u001b[0m \u001b[32m━━━━━━━━━━━━━━━━━━━━\u001b[0m\u001b[37m\u001b[0m \u001b[1m8s\u001b[0m 41ms/step\n",
            "Akurasi model: 0.93\n",
            "              precision    recall  f1-score   support\n",
            "\n",
            "  nowildfire       0.91      0.95      0.93      2886\n",
            "    wildfire       0.95      0.91      0.93      3164\n",
            "\n",
            "    accuracy                           0.93      6050\n",
            "   macro avg       0.93      0.93      0.93      6050\n",
            "weighted avg       0.93      0.93      0.93      6050\n",
            "\n"
          ]
        }
      ],
      "source": [
        "# Evaluasi model pada data uji\n",
        "y_pred = model.predict(X_test)\n",
        "y_pred_classes = np.argmax(y_pred, axis=1)\n",
        "y_test_classes = np.argmax(y_test, axis=1)\n",
        "\n",
        "# Menghitung akurasi\n",
        "accuracy = accuracy_score(y_test_classes, y_pred_classes)\n",
        "print(f\"Akurasi model: {accuracy:.2f}\")\n",
        "\n",
        "# Menampilkan laporan klasifikasi\n",
        "print(classification_report(y_test_classes, y_pred_classes, target_names=le.classes_.astype(str)))"
      ]
    },
    {
      "cell_type": "code",
      "execution_count": null,
      "metadata": {
        "id": "aiD7N1qHz2se",
        "outputId": "0e8cdf46-bc01-44c6-ba84-6bb99e0f60da"
      },
      "outputs": [
        {
          "name": "stdout",
          "output_type": "stream",
          "text": [
            "\u001b[1m197/197\u001b[0m \u001b[32m━━━━━━━━━━━━━━━━━━━━\u001b[0m\u001b[37m\u001b[0m \u001b[1m8s\u001b[0m 40ms/step\n",
            "Akurasi model: 0.94\n",
            "              precision    recall  f1-score   support\n",
            "\n",
            "  nowildfire       0.90      0.98      0.94      2820\n",
            "    wildfire       0.98      0.91      0.94      3480\n",
            "\n",
            "    accuracy                           0.94      6300\n",
            "   macro avg       0.94      0.94      0.94      6300\n",
            "weighted avg       0.94      0.94      0.94      6300\n",
            "\n"
          ]
        }
      ],
      "source": [
        "# Pastikan gambar memiliki ukuran yang sesuai dan labelnya benar\n",
        "X_test_another = np.array([entry['image'] for entry in test])\n",
        "y_test_another = np.array([entry['label'] for entry in test])\n",
        "\n",
        "# Encode label\n",
        "le = LabelEncoder()\n",
        "y_encoded = le.fit_transform(y_test_another)  # Ini harus dilakukan pada data yang sama\n",
        "y_test_classes = y_encoded  # Simpan kelas y_test yang sudah diencode\n",
        "\n",
        "# Prediksi\n",
        "y_pred = model.predict(X_test_another)\n",
        "y_pred_classes = np.argmax(y_pred, axis=1)\n",
        "\n",
        "# Menghitung akurasi\n",
        "accuracy = accuracy_score(y_test_classes, y_pred_classes)\n",
        "print(f\"Akurasi model: {accuracy:.2f}\")\n",
        "\n",
        "# Menampilkan laporan klasifikasi\n",
        "print(classification_report(y_test_classes, y_pred_classes, target_names=le.classes_.astype(str)))\n"
      ]
    },
    {
      "cell_type": "code",
      "execution_count": null,
      "metadata": {
        "id": "sxPk5dLzz2se",
        "outputId": "b19ca1bf-419b-4e0f-8c95-5c5283cd0fe5"
      },
      "outputs": [
        {
          "data": {
            "image/png": "[encoded data removed]",
            "text/plain": [
              "<Figure size 1200x400 with 2 Axes>"
            ]
          },
          "metadata": {},
          "output_type": "display_data"
        }
      ],
      "source": [
        "# Grafik akurasi dan loss\n",
        "plt.figure(figsize=(12, 4))\n",
        "\n",
        "# Grafik akurasi\n",
        "plt.subplot(1, 2, 1)\n",
        "plt.plot(history.history['accuracy'], label='Training Accuracy')\n",
        "plt.plot(history.history['val_accuracy'], label='Validation Accuracy')\n",
        "plt.title('Accuracy')\n",
        "plt.xlabel('Epochs')\n",
        "plt.ylabel('Accuracy')\n",
        "plt.legend()\n",
        "\n",
        "# Grafik loss\n",
        "plt.subplot(1, 2, 2)\n",
        "plt.plot(history.history['loss'], label='Training Loss')\n",
        "plt.plot(history.history['val_loss'], label='Validation Loss')\n",
        "plt.title('Loss')\n",
        "plt.xlabel('Epochs')\n",
        "plt.ylabel('Loss')\n",
        "plt.legend()\n",
        "\n",
        "plt.show()\n"
      ]
    }
  ],
  "metadata": {
    "colab": {
      "provenance": [],
      "include_colab_link": true
    },
    "kernelspec": {
      "display_name": "Python 3",
      "name": "python3"
    },
    "language_info": {
      "codemirror_mode": {
        "name": "ipython",
        "version": 3
      },
      "file_extension": ".py",
      "mimetype": "text/x-python",
      "name": "python",
      "nbconvert_exporter": "python",
      "pygments_lexer": "ipython3",
      "version": "3.12.3"
    }
  },
  "nbformat": 4,
  "nbformat_minor": 0
}
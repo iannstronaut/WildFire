{
  "cells": [
    {
      "cell_type": "markdown",
      "metadata": {
        "id": "view-in-github",
        "colab_type": "text"
      },
      "source": [
        "<a href=\"https://colab.research.google.com/github/iannstronaut/WildFire/blob/Experimental/Wildfire_with_CNN.ipynb\" target=\"_parent\"><img src=\"https://colab.research.google.com/assets/colab-badge.svg\" alt=\"Open In Colab\"/></a>"
      ]
    },
    {
      "cell_type": "markdown",
      "metadata": {
        "id": "Yi1s67KpXMJm"
      },
      "source": [
        "# Wildfire with CNN"
      ]
    },
    {
      "cell_type": "code",
      "source": [
        "from google.colab import drive\n",
        "drive.mount('/content/drive')"
      ],
      "metadata": {
        "colab": {
          "base_uri": "https://localhost:8080/"
        },
        "id": "0MLZMYu-bPAa",
        "outputId": "c536db5a-d4c8-45a4-9ca4-d4f85cef83d2"
      },
      "execution_count": 1,
      "outputs": [
        {
          "output_type": "stream",
          "name": "stdout",
          "text": [
            "Mounted at /content/drive\n"
          ]
        }
      ]
    },
    {
      "cell_type": "code",
      "execution_count": 2,
      "metadata": {
        "id": "F6lYsEq4XIFe",
        "colab": {
          "base_uri": "https://localhost:8080/"
        },
        "outputId": "6d3c00fc-db9a-499d-a432-bafc9fe95969"
      },
      "outputs": [
        {
          "output_type": "stream",
          "name": "stdout",
          "text": [
            "30251 images loaded from folders 'wildfire' and 'nowildfire'.\n"
          ]
        }
      ],
      "source": [
        "import os\n",
        "from PIL import Image\n",
        "from PIL import ImageFile\n",
        "import numpy as np\n",
        "\n",
        "# Izinkan pemuatan gambar terpotong\n",
        "ImageFile.LOAD_TRUNCATED_IMAGES = True\n",
        "\n",
        "# Path ke folder Wildfire\n",
        "base_dir = \"/content/drive/MyDrive/Wildfire/train\"\n",
        "\n",
        "# Inisialisasi array untuk menyimpan gambar dan label\n",
        "data = []\n",
        "\n",
        "# Loop untuk membaca gambar dari subfolder 'wildfire' dan 'nowildfire'\n",
        "for label in ['wildfire', 'nowildfire']:\n",
        "    folder_path = os.path.join(base_dir, label)  # Path ke subfolder\n",
        "    for filename in os.listdir(folder_path):\n",
        "        if filename.endswith(\".jpg\"):\n",
        "            img_path = os.path.join(folder_path, filename)\n",
        "\n",
        "            # Buka gambar menggunakan PIL\n",
        "            img = Image.open(img_path)\n",
        "\n",
        "            img = img.resize((50, 50))\n",
        "\n",
        "            # Konversi gambar ke array numpy\n",
        "            img_np = np.array(img)\n",
        "\n",
        "            # Tambahkan gambar dan label ke array data\n",
        "            data.append({\n",
        "                'label': label,\n",
        "                'image': img_np\n",
        "            })\n",
        "\n",
        "# Jumlah gambar yang berhasil dimuat\n",
        "print(f\"{len(data)} images loaded from folders 'wildfire' and 'nowildfire'.\")\n"
      ]
    },
    {
      "cell_type": "code",
      "execution_count": 3,
      "metadata": {
        "id": "Gg2v15Ojk21g",
        "outputId": "669eb52e-439b-439b-a98e-98bc26762e80",
        "colab": {
          "base_uri": "https://localhost:8080/"
        }
      },
      "outputs": [
        {
          "output_type": "stream",
          "name": "stdout",
          "text": [
            "6300 images loaded from folders 'wildfire' and 'nowildfire'.\n"
          ]
        }
      ],
      "source": [
        "base_dir = \"/content/drive/MyDrive/Wildfire/test\"\n",
        "\n",
        "# Inisialisasi array untuk menyimpan gambar dan label\n",
        "test = []\n",
        "\n",
        "# Loop untuk membaca gambar dari subfolder 'wildfire' dan 'nowildfire'\n",
        "for label in ['wildfire', 'nowildfire']:\n",
        "    folder_path = os.path.join(base_dir, label)  # Path ke subfolder\n",
        "    for filename in os.listdir(folder_path):\n",
        "        if filename.endswith(\".jpg\"):\n",
        "            img_path = os.path.join(folder_path, filename)\n",
        "\n",
        "            # Buka gambar menggunakan PIL\n",
        "            img = Image.open(img_path)\n",
        "\n",
        "            img = img.resize((50, 50))\n",
        "\n",
        "            # Konversi gambar ke array numpy\n",
        "            img_np = np.array(img)\n",
        "\n",
        "            # Tambahkan gambar dan label ke array data\n",
        "            test.append({\n",
        "                'label': label,\n",
        "                'image': img_np\n",
        "            })\n",
        "\n",
        "# Jumlah gambar yang berhasil dimuat\n",
        "print(f\"{len(test)} images loaded from folders 'wildfire' and 'nowildfire'.\")\n"
      ]
    },
    {
      "cell_type": "code",
      "execution_count": 4,
      "metadata": {
        "id": "MOlyyk7nk21g"
      },
      "outputs": [],
      "source": [
        "X_train = np.array([entry['image'] for entry in data])\n",
        "y_train = np.array([entry['label'] for entry in data])"
      ]
    },
    {
      "cell_type": "code",
      "execution_count": 5,
      "metadata": {
        "id": "jeIXfRk9k21h"
      },
      "outputs": [],
      "source": [
        "import matplotlib.pyplot as plt\n",
        "from tensorflow.keras.models import Sequential\n",
        "from tensorflow.keras.layers import Conv2D, MaxPooling2D, Flatten, Dense, Dropout\n",
        "from tensorflow.keras.utils import to_categorical\n",
        "from sklearn.model_selection import train_test_split\n",
        "from sklearn.metrics import classification_report, accuracy_score"
      ]
    },
    {
      "cell_type": "code",
      "execution_count": 6,
      "metadata": {
        "id": "MxxO6Zink21h",
        "outputId": "24ddf508-bd36-4bcb-d2f5-768fffc1b41b",
        "colab": {
          "base_uri": "https://localhost:8080/"
        }
      },
      "outputs": [
        {
          "output_type": "stream",
          "name": "stdout",
          "text": [
            "Shape of X_train: (24200, 50, 50, 3), Shape of X_test: (6051, 50, 50, 3)\n",
            "Shape of y_train: (24200, 2), Shape of y_test: (6051, 2)\n"
          ]
        }
      ],
      "source": [
        "from sklearn.preprocessing import LabelEncoder\n",
        "\n",
        "le = LabelEncoder()\n",
        "y_encoded = le.fit_transform(y_train)\n",
        "# Split data menjadi training dan testing\n",
        "X_train, X_test, y_train, y_test = train_test_split(X_train, y_encoded, test_size=0.2, random_state=42)\n",
        "# Ubah label menjadi kategorikal\n",
        "y_train = to_categorical(y_train)\n",
        "y_test = to_categorical(y_test)\n",
        "print(f\"Shape of X_train: {X_train.shape}, Shape of X_test: {X_test.shape}\")\n",
        "print(f\"Shape of y_train: {y_train.shape}, Shape of y_test: {y_test.shape}\")"
      ]
    },
    {
      "cell_type": "code",
      "execution_count": 9,
      "metadata": {
        "id": "upJ4Hkg-k21h",
        "outputId": "0d5353ec-2c9d-41af-e667-5ca1dcf2cfa7",
        "colab": {
          "base_uri": "https://localhost:8080/"
        }
      },
      "outputs": [
        {
          "output_type": "stream",
          "name": "stdout",
          "text": [
            "Epoch 1/50\n",
            "605/605 [==============================] - 11s 16ms/step - loss: 0.4154 - accuracy: 0.8721 - val_loss: 0.2535 - val_accuracy: 0.8952\n",
            "Epoch 2/50\n",
            "605/605 [==============================] - 9s 15ms/step - loss: 0.2598 - accuracy: 0.9022 - val_loss: 0.2380 - val_accuracy: 0.9045\n",
            "Epoch 3/50\n",
            "605/605 [==============================] - 9s 15ms/step - loss: 0.2335 - accuracy: 0.9127 - val_loss: 0.2171 - val_accuracy: 0.9153\n",
            "Epoch 4/50\n",
            "605/605 [==============================] - 9s 16ms/step - loss: 0.2158 - accuracy: 0.9190 - val_loss: 0.2090 - val_accuracy: 0.9163\n",
            "Epoch 5/50\n",
            "605/605 [==============================] - 10s 16ms/step - loss: 0.2023 - accuracy: 0.9261 - val_loss: 0.2092 - val_accuracy: 0.9165\n",
            "Epoch 6/50\n",
            "605/605 [==============================] - 10s 16ms/step - loss: 0.1979 - accuracy: 0.9251 - val_loss: 0.1863 - val_accuracy: 0.9267\n",
            "Epoch 7/50\n",
            "605/605 [==============================] - 9s 16ms/step - loss: 0.1882 - accuracy: 0.9295 - val_loss: 0.2040 - val_accuracy: 0.9267\n",
            "Epoch 8/50\n",
            "605/605 [==============================] - 9s 16ms/step - loss: 0.1791 - accuracy: 0.9337 - val_loss: 0.2127 - val_accuracy: 0.9207\n",
            "Epoch 9/50\n",
            "605/605 [==============================] - 10s 16ms/step - loss: 0.1933 - accuracy: 0.9283 - val_loss: 0.2161 - val_accuracy: 0.9215\n",
            "Epoch 10/50\n",
            "605/605 [==============================] - 9s 16ms/step - loss: 0.1653 - accuracy: 0.9373 - val_loss: 0.1824 - val_accuracy: 0.9376\n",
            "Epoch 11/50\n",
            "605/605 [==============================] - 9s 16ms/step - loss: 0.1604 - accuracy: 0.9412 - val_loss: 0.1936 - val_accuracy: 0.9298\n",
            "Epoch 12/50\n",
            "605/605 [==============================] - 10s 16ms/step - loss: 0.1590 - accuracy: 0.9396 - val_loss: 0.1833 - val_accuracy: 0.9335\n",
            "Epoch 13/50\n",
            "605/605 [==============================] - 10s 16ms/step - loss: 0.1562 - accuracy: 0.9404 - val_loss: 0.1854 - val_accuracy: 0.9393\n",
            "Epoch 14/50\n",
            "605/605 [==============================] - 10s 16ms/step - loss: 0.1405 - accuracy: 0.9477 - val_loss: 0.1698 - val_accuracy: 0.9424\n",
            "Epoch 15/50\n",
            "605/605 [==============================] - 10s 16ms/step - loss: 0.1451 - accuracy: 0.9456 - val_loss: 0.1971 - val_accuracy: 0.9312\n",
            "Epoch 16/50\n",
            "605/605 [==============================] - 10s 17ms/step - loss: 0.1376 - accuracy: 0.9484 - val_loss: 0.1748 - val_accuracy: 0.9424\n",
            "Epoch 17/50\n",
            "605/605 [==============================] - 10s 16ms/step - loss: 0.1371 - accuracy: 0.9475 - val_loss: 0.1961 - val_accuracy: 0.9322\n",
            "Epoch 18/50\n",
            "605/605 [==============================] - 10s 16ms/step - loss: 0.1230 - accuracy: 0.9528 - val_loss: 0.2352 - val_accuracy: 0.9347\n",
            "Epoch 19/50\n",
            "605/605 [==============================] - 10s 16ms/step - loss: 0.1227 - accuracy: 0.9540 - val_loss: 0.2138 - val_accuracy: 0.9326\n",
            "Epoch 20/50\n",
            "605/605 [==============================] - 10s 16ms/step - loss: 0.1215 - accuracy: 0.9567 - val_loss: 0.1817 - val_accuracy: 0.9384\n",
            "Epoch 21/50\n",
            "605/605 [==============================] - 10s 16ms/step - loss: 0.1132 - accuracy: 0.9561 - val_loss: 0.1965 - val_accuracy: 0.9393\n",
            "Epoch 22/50\n",
            "605/605 [==============================] - 10s 17ms/step - loss: 0.1114 - accuracy: 0.9586 - val_loss: 0.2036 - val_accuracy: 0.9364\n",
            "Epoch 23/50\n",
            "605/605 [==============================] - 10s 16ms/step - loss: 0.1102 - accuracy: 0.9594 - val_loss: 0.1901 - val_accuracy: 0.9436\n",
            "Epoch 24/50\n",
            "605/605 [==============================] - 10s 16ms/step - loss: 0.0975 - accuracy: 0.9629 - val_loss: 0.2111 - val_accuracy: 0.9368\n",
            "Epoch 25/50\n",
            "605/605 [==============================] - 10s 17ms/step - loss: 0.0876 - accuracy: 0.9666 - val_loss: 0.2514 - val_accuracy: 0.9401\n",
            "Epoch 26/50\n",
            "605/605 [==============================] - 10s 17ms/step - loss: 0.0879 - accuracy: 0.9671 - val_loss: 0.2467 - val_accuracy: 0.9409\n",
            "Epoch 27/50\n",
            "605/605 [==============================] - 10s 16ms/step - loss: 0.0917 - accuracy: 0.9669 - val_loss: 0.3164 - val_accuracy: 0.9318\n",
            "Epoch 28/50\n",
            "605/605 [==============================] - 10s 16ms/step - loss: 0.0882 - accuracy: 0.9683 - val_loss: 0.2604 - val_accuracy: 0.9386\n",
            "Epoch 29/50\n",
            "605/605 [==============================] - 10s 16ms/step - loss: 0.0784 - accuracy: 0.9708 - val_loss: 0.2529 - val_accuracy: 0.9320\n",
            "Epoch 30/50\n",
            "605/605 [==============================] - 10s 16ms/step - loss: 0.0810 - accuracy: 0.9710 - val_loss: 0.3112 - val_accuracy: 0.9267\n",
            "Epoch 31/50\n",
            "605/605 [==============================] - 10s 16ms/step - loss: 0.0713 - accuracy: 0.9735 - val_loss: 0.3062 - val_accuracy: 0.9355\n",
            "Epoch 32/50\n",
            "605/605 [==============================] - 10s 16ms/step - loss: 0.0791 - accuracy: 0.9708 - val_loss: 0.2648 - val_accuracy: 0.9395\n",
            "Epoch 33/50\n",
            "605/605 [==============================] - 10s 16ms/step - loss: 0.0741 - accuracy: 0.9744 - val_loss: 0.3129 - val_accuracy: 0.9366\n",
            "Epoch 34/50\n",
            "605/605 [==============================] - 10s 16ms/step - loss: 0.0645 - accuracy: 0.9769 - val_loss: 0.3080 - val_accuracy: 0.9277\n",
            "Epoch 35/50\n",
            "605/605 [==============================] - 10s 16ms/step - loss: 0.0758 - accuracy: 0.9738 - val_loss: 0.2815 - val_accuracy: 0.9411\n",
            "Epoch 36/50\n",
            "605/605 [==============================] - 10s 16ms/step - loss: 0.0639 - accuracy: 0.9768 - val_loss: 0.3214 - val_accuracy: 0.9405\n",
            "Epoch 37/50\n",
            "605/605 [==============================] - 10s 16ms/step - loss: 0.0675 - accuracy: 0.9760 - val_loss: 0.4148 - val_accuracy: 0.9205\n",
            "Epoch 38/50\n",
            "605/605 [==============================] - 10s 16ms/step - loss: 0.0853 - accuracy: 0.9707 - val_loss: 0.2547 - val_accuracy: 0.9362\n",
            "Epoch 39/50\n",
            "605/605 [==============================] - 10s 16ms/step - loss: 0.0552 - accuracy: 0.9799 - val_loss: 0.3617 - val_accuracy: 0.9428\n",
            "Epoch 40/50\n",
            "605/605 [==============================] - 9s 16ms/step - loss: 0.0642 - accuracy: 0.9771 - val_loss: 0.4059 - val_accuracy: 0.9366\n",
            "Epoch 41/50\n",
            "605/605 [==============================] - 10s 16ms/step - loss: 0.0845 - accuracy: 0.9717 - val_loss: 0.3325 - val_accuracy: 0.9388\n",
            "Epoch 42/50\n",
            "605/605 [==============================] - 10s 16ms/step - loss: 0.0456 - accuracy: 0.9837 - val_loss: 0.4204 - val_accuracy: 0.9399\n",
            "Epoch 43/50\n",
            "605/605 [==============================] - 10s 16ms/step - loss: 0.0562 - accuracy: 0.9802 - val_loss: 0.3455 - val_accuracy: 0.9424\n",
            "Epoch 44/50\n",
            "605/605 [==============================] - 9s 16ms/step - loss: 0.0740 - accuracy: 0.9757 - val_loss: 0.3750 - val_accuracy: 0.9345\n",
            "Epoch 45/50\n",
            "605/605 [==============================] - 10s 16ms/step - loss: 0.0518 - accuracy: 0.9814 - val_loss: 0.3447 - val_accuracy: 0.9415\n",
            "Epoch 46/50\n",
            "605/605 [==============================] - 10s 16ms/step - loss: 0.0536 - accuracy: 0.9819 - val_loss: 0.5452 - val_accuracy: 0.9316\n",
            "Epoch 47/50\n",
            "605/605 [==============================] - 10s 16ms/step - loss: 0.0508 - accuracy: 0.9838 - val_loss: 0.4950 - val_accuracy: 0.9331\n",
            "Epoch 48/50\n",
            "605/605 [==============================] - 10s 16ms/step - loss: 0.0542 - accuracy: 0.9804 - val_loss: 0.3940 - val_accuracy: 0.9362\n",
            "Epoch 49/50\n",
            "605/605 [==============================] - 10s 16ms/step - loss: 0.0596 - accuracy: 0.9810 - val_loss: 0.3934 - val_accuracy: 0.9397\n",
            "Epoch 50/50\n",
            "605/605 [==============================] - 10s 16ms/step - loss: 0.0656 - accuracy: 0.9784 - val_loss: 0.5391 - val_accuracy: 0.9165\n"
          ]
        }
      ],
      "source": [
        "# Membangun model CNN\n",
        "model = Sequential()\n",
        "model.add(Conv2D(32, (3, 3), activation='relu', input_shape=(50, 50, 3)))\n",
        "model.add(MaxPooling2D(pool_size=(2, 2)))\n",
        "model.add(Conv2D(64, (3, 3), activation='relu'))\n",
        "model.add(MaxPooling2D(pool_size=(2, 2)))\n",
        "model.add(Conv2D(128, (3, 3), activation='relu'))\n",
        "model.add(MaxPooling2D(pool_size=(2, 2)))\n",
        "model.add(Flatten())\n",
        "model.add(Dense(128, activation='relu'))\n",
        "model.add(Dropout(0.5))  # Regularisasi\n",
        "model.add(Dense(2, activation='softmax'))  # 2 kelas (wildfire, nowildfire)\n",
        "\n",
        "# Kompilasi model\n",
        "model.compile(optimizer='adam', loss='categorical_crossentropy', metrics=['accuracy'])\n",
        "\n",
        "# Melatih model\n",
        "history = model.fit(X_train, y_train, epochs=50, batch_size=32, validation_split=0.2)"
      ]
    },
    {
      "cell_type": "code",
      "execution_count": 10,
      "metadata": {
        "id": "-7KOEcuvk21h",
        "outputId": "afaa2594-0271-4b5d-f490-da22cea0131e",
        "colab": {
          "base_uri": "https://localhost:8080/"
        }
      },
      "outputs": [
        {
          "output_type": "stream",
          "name": "stdout",
          "text": [
            "190/190 [==============================] - 1s 6ms/step\n",
            "Akurasi model: 0.92\n",
            "              precision    recall  f1-score   support\n",
            "\n",
            "  nowildfire       0.88      0.96      0.92      2868\n",
            "    wildfire       0.96      0.88      0.92      3183\n",
            "\n",
            "    accuracy                           0.92      6051\n",
            "   macro avg       0.92      0.92      0.92      6051\n",
            "weighted avg       0.92      0.92      0.92      6051\n",
            "\n"
          ]
        }
      ],
      "source": [
        "# Evaluasi model pada data uji\n",
        "y_pred = model.predict(X_test)\n",
        "y_pred_classes = np.argmax(y_pred, axis=1)\n",
        "y_test_classes = np.argmax(y_test, axis=1)\n",
        "\n",
        "# Menghitung akurasi\n",
        "accuracy = accuracy_score(y_test_classes, y_pred_classes)\n",
        "print(f\"Akurasi model: {accuracy:.2f}\")\n",
        "\n",
        "# Menampilkan laporan klasifikasi\n",
        "print(classification_report(y_test_classes, y_pred_classes, target_names=le.classes_.astype(str)))"
      ]
    },
    {
      "cell_type": "code",
      "execution_count": 11,
      "metadata": {
        "id": "Cu3eKH8Ok21h",
        "outputId": "a88fb94c-b157-4d80-8a91-973e67b94681",
        "colab": {
          "base_uri": "https://localhost:8080/"
        }
      },
      "outputs": [
        {
          "output_type": "stream",
          "name": "stdout",
          "text": [
            "197/197 [==============================] - 1s 6ms/step\n",
            "Akurasi model: 0.91\n",
            "              precision    recall  f1-score   support\n",
            "\n",
            "  nowildfire       0.85      0.97      0.91      2820\n",
            "    wildfire       0.97      0.86      0.92      3480\n",
            "\n",
            "    accuracy                           0.91      6300\n",
            "   macro avg       0.91      0.92      0.91      6300\n",
            "weighted avg       0.92      0.91      0.91      6300\n",
            "\n"
          ]
        }
      ],
      "source": [
        "# Pastikan gambar memiliki ukuran yang sesuai dan labelnya benar\n",
        "X_test_another = np.array([entry['image'] for entry in test])\n",
        "y_test_another = np.array([entry['label'] for entry in test])\n",
        "\n",
        "# Encode label\n",
        "le = LabelEncoder()\n",
        "y_encoded = le.fit_transform(y_test_another)  # Ini harus dilakukan pada data yang sama\n",
        "y_test_classes = y_encoded  # Simpan kelas y_test yang sudah diencode\n",
        "\n",
        "# Prediksi\n",
        "y_pred = model.predict(X_test_another)\n",
        "y_pred_classes = np.argmax(y_pred, axis=1)\n",
        "\n",
        "# Menghitung akurasi\n",
        "accuracy = accuracy_score(y_test_classes, y_pred_classes)\n",
        "print(f\"Akurasi model: {accuracy:.2f}\")\n",
        "\n",
        "# Menampilkan laporan klasifikasi\n",
        "print(classification_report(y_test_classes, y_pred_classes, target_names=le.classes_.astype(str)))\n"
      ]
    },
    {
      "cell_type": "code",
      "execution_count": 12,
      "metadata": {
        "id": "LBTQlW6Zk21h",
        "outputId": "8d0a9cd3-b536-4ef0-b7ac-973a4a1363bf",
        "colab": {
          "base_uri": "https://localhost:8080/",
          "height": 410
        }
      },
      "outputs": [
        {
          "output_type": "display_data",
          "data": {
            "text/plain": [
              "<Figure size 1200x400 with 2 Axes>"
            ],
            "image/png": "[encoded data removed]"
          },
          "metadata": {}
        }
      ],
      "source": [
        "# Grafik akurasi dan loss\n",
        "plt.figure(figsize=(12, 4))\n",
        "\n",
        "# Grafik akurasi\n",
        "plt.subplot(1, 2, 1)\n",
        "plt.plot(history.history['accuracy'], label='Training Accuracy')\n",
        "plt.plot(history.history['val_accuracy'], label='Validation Accuracy')\n",
        "plt.title('Accuracy')\n",
        "plt.xlabel('Epochs')\n",
        "plt.ylabel('Accuracy')\n",
        "plt.legend()\n",
        "\n",
        "# Grafik loss\n",
        "plt.subplot(1, 2, 2)\n",
        "plt.plot(history.history['loss'], label='Training Loss')\n",
        "plt.plot(history.history['val_loss'], label='Validation Loss')\n",
        "plt.title('Loss')\n",
        "plt.xlabel('Epochs')\n",
        "plt.ylabel('Loss')\n",
        "plt.legend()\n",
        "\n",
        "plt.show()\n"
      ]
    }
  ],
  "metadata": {
    "colab": {
      "provenance": [],
      "gpuType": "V28",
      "include_colab_link": true
    },
    "kernelspec": {
      "display_name": "Python 3",
      "name": "python3"
    },
    "language_info": {
      "codemirror_mode": {
        "name": "ipython",
        "version": 3
      },
      "file_extension": ".py",
      "mimetype": "text/x-python",
      "name": "python",
      "nbconvert_exporter": "python",
      "pygments_lexer": "ipython3",
      "version": "3.12.3"
    },
    "accelerator": "TPU"
  },
  "nbformat": 4,
  "nbformat_minor": 0
}